{
 "cells": [
  {
   "cell_type": "markdown",
   "metadata": {},
   "source": [
    "# Data Analysis Example in Python\n",
    "### Adapted by Carrie Brown from \"The Bigmemory Project: Introductory Example\" by Michael Kane and John Emerson\n",
    "\n",
    "Using USA Commerical Flight Data from 1997 to 2008, this analysis covers data loading, integration and basic visualization to attempt to discern possible causes of flight delays.\n",
    "\n",
    "**If you wish to run this notebook interactively:** you will be need to run the `get_data.submit` job (using the command `sbatch get_data.submit`) to download the necessary datafiles. It is also recommended to change the data load step to use the truncated data set to improve run times."
   ]
  },
  {
   "cell_type": "code",
   "execution_count": 1,
   "metadata": {
    "collapsed": true
   },
   "outputs": [],
   "source": [
    "# Import libraries\n",
    "import pandas as pd\n",
    "import numpy as np\n",
    "import matplotlib.pyplot as plt\n",
    "from sklearn.linear_model import LinearRegression\n",
    "from sklearn.ensemble import RandomForestClassifier\n",
    "\n",
    "# Set plot figure sizes\n",
    "plt.rcParams[\"figure.figsize\"] = (10,10)"
   ]
  },
  {
   "cell_type": "code",
   "execution_count": 2,
   "metadata": {},
   "outputs": [
    {
     "data": {
      "text/html": [
       "<div>\n",
       "<style>\n",
       "    .dataframe thead tr:only-child th {\n",
       "        text-align: right;\n",
       "    }\n",
       "\n",
       "    .dataframe thead th {\n",
       "        text-align: left;\n",
       "    }\n",
       "\n",
       "    .dataframe tbody tr th {\n",
       "        vertical-align: top;\n",
       "    }\n",
       "</style>\n",
       "<table border=\"1\" class=\"dataframe\">\n",
       "  <thead>\n",
       "    <tr style=\"text-align: right;\">\n",
       "      <th></th>\n",
       "      <th>Year</th>\n",
       "      <th>Month</th>\n",
       "      <th>TailNum</th>\n",
       "      <th>ArrDelay</th>\n",
       "      <th>Origin</th>\n",
       "    </tr>\n",
       "  </thead>\n",
       "  <tbody>\n",
       "    <tr>\n",
       "      <th>0</th>\n",
       "      <td>1987</td>\n",
       "      <td>10</td>\n",
       "      <td>NaN</td>\n",
       "      <td>NaN</td>\n",
       "      <td>JFK</td>\n",
       "    </tr>\n",
       "    <tr>\n",
       "      <th>1</th>\n",
       "      <td>1987</td>\n",
       "      <td>11</td>\n",
       "      <td>NaN</td>\n",
       "      <td>2.0</td>\n",
       "      <td>MCI</td>\n",
       "    </tr>\n",
       "    <tr>\n",
       "      <th>2</th>\n",
       "      <td>1987</td>\n",
       "      <td>11</td>\n",
       "      <td>NaN</td>\n",
       "      <td>0.0</td>\n",
       "      <td>SAN</td>\n",
       "    </tr>\n",
       "    <tr>\n",
       "      <th>3</th>\n",
       "      <td>1987</td>\n",
       "      <td>12</td>\n",
       "      <td>NaN</td>\n",
       "      <td>31.0</td>\n",
       "      <td>ORD</td>\n",
       "    </tr>\n",
       "    <tr>\n",
       "      <th>4</th>\n",
       "      <td>1987</td>\n",
       "      <td>10</td>\n",
       "      <td>NaN</td>\n",
       "      <td>12.0</td>\n",
       "      <td>LAX</td>\n",
       "    </tr>\n",
       "  </tbody>\n",
       "</table>\n",
       "</div>"
      ],
      "text/plain": [
       "   Year  Month TailNum  ArrDelay Origin\n",
       "0  1987     10     NaN       NaN    JFK\n",
       "1  1987     11     NaN       2.0    MCI\n",
       "2  1987     11     NaN       0.0    SAN\n",
       "3  1987     12     NaN      31.0    ORD\n",
       "4  1987     10     NaN      12.0    LAX"
      ]
     },
     "execution_count": 2,
     "metadata": {},
     "output_type": "execute_result"
    }
   ],
   "source": [
    "# Load airline.csv data - to run this interactively, change the file to './data/airline_truc.csv'\n",
    "flights = pd.read_csv(\"./data/airline_subsample.csv\",\n",
    "                     sep = \",\", low_memory=False)\n",
    "flights.head(5)"
   ]
  },
  {
   "cell_type": "code",
   "execution_count": 3,
   "metadata": {},
   "outputs": [
    {
     "data": {
      "text/plain": [
       "Year          int64\n",
       "Month         int64\n",
       "TailNum      object\n",
       "ArrDelay    float64\n",
       "Origin       object\n",
       "dtype: object"
      ]
     },
     "execution_count": 3,
     "metadata": {},
     "output_type": "execute_result"
    }
   ],
   "source": [
    "# The structure of the dataframe\n",
    "flights.dtypes"
   ]
  },
  {
   "cell_type": "code",
   "execution_count": 4,
   "metadata": {},
   "outputs": [
    {
     "data": {
      "text/plain": [
       "(2200000, 5)"
      ]
     },
     "execution_count": 4,
     "metadata": {},
     "output_type": "execute_result"
    }
   ],
   "source": [
    "# Number of rows and columns in dataframe\n",
    "flights.shape"
   ]
  },
  {
   "cell_type": "code",
   "execution_count": 5,
   "metadata": {},
   "outputs": [
    {
     "data": {
      "text/plain": [
       "(1366016, 5)"
      ]
     },
     "execution_count": 5,
     "metadata": {},
     "output_type": "execute_result"
    }
   ],
   "source": [
    "# Remove flights with missing data\n",
    "flights = flights.dropna(axis = [0, 1], how = \"any\")\n",
    "flights.shape"
   ]
  },
  {
   "cell_type": "code",
   "execution_count": 6,
   "metadata": {},
   "outputs": [
    {
     "data": {
      "text/plain": [
       "['N605AU',\n",
       " 'N178AW',\n",
       " 'N966VJ',\n",
       " 'N903DE',\n",
       " 'N997Z',\n",
       " 'N57837',\n",
       " 'N948L',\n",
       " 'N945DL',\n",
       " 'N309']"
      ]
     },
     "execution_count": 6,
     "metadata": {},
     "output_type": "execute_result"
    }
   ],
   "source": [
    "# Function to estimate birthmonth of aircraft by finding the month and year of first flight\n",
    "def birthmonth(airplane):\n",
    "    minYear = airplane['Year'].min()\n",
    "    minMonth = airplane[airplane['Year'] == minYear]['Month'].min()\n",
    "    return (12*minYear + minMonth - 1);\n",
    "\n",
    "# Create vectors for each aircraft (aircrafts)\n",
    "aircrafts = flights['TailNum'].unique()\n",
    "aircrafts = [s for s in aircrafts if str(s) != 'nan']\n",
    "\n",
    "aircrafts[1:10]"
   ]
  },
  {
   "cell_type": "code",
   "execution_count": 7,
   "metadata": {},
   "outputs": [
    {
     "data": {
      "text/html": [
       "<div>\n",
       "<style>\n",
       "    .dataframe thead tr:only-child th {\n",
       "        text-align: right;\n",
       "    }\n",
       "\n",
       "    .dataframe thead th {\n",
       "        text-align: left;\n",
       "    }\n",
       "\n",
       "    .dataframe tbody tr th {\n",
       "        vertical-align: top;\n",
       "    }\n",
       "</style>\n",
       "<table border=\"1\" class=\"dataframe\">\n",
       "  <thead>\n",
       "    <tr style=\"text-align: right;\">\n",
       "      <th></th>\n",
       "      <th>Year</th>\n",
       "      <th>Month</th>\n",
       "      <th>TailNum</th>\n",
       "      <th>ArrDelay</th>\n",
       "      <th>Origin</th>\n",
       "      <th>Start</th>\n",
       "      <th>Age</th>\n",
       "    </tr>\n",
       "  </thead>\n",
       "  <tbody>\n",
       "    <tr>\n",
       "      <th>800001</th>\n",
       "      <td>1995</td>\n",
       "      <td>12</td>\n",
       "      <td>N605AU</td>\n",
       "      <td>108.0</td>\n",
       "      <td>TPA</td>\n",
       "      <td>23940.0</td>\n",
       "      <td>12.0</td>\n",
       "    </tr>\n",
       "    <tr>\n",
       "      <th>800002</th>\n",
       "      <td>1995</td>\n",
       "      <td>10</td>\n",
       "      <td>N178AW</td>\n",
       "      <td>1.0</td>\n",
       "      <td>PHX</td>\n",
       "      <td>23940.0</td>\n",
       "      <td>10.0</td>\n",
       "    </tr>\n",
       "    <tr>\n",
       "      <th>800003</th>\n",
       "      <td>1995</td>\n",
       "      <td>11</td>\n",
       "      <td>N966VJ</td>\n",
       "      <td>-7.0</td>\n",
       "      <td>PIT</td>\n",
       "      <td>23940.0</td>\n",
       "      <td>11.0</td>\n",
       "    </tr>\n",
       "    <tr>\n",
       "      <th>800004</th>\n",
       "      <td>1995</td>\n",
       "      <td>1</td>\n",
       "      <td>N903DE</td>\n",
       "      <td>-4.0</td>\n",
       "      <td>PNS</td>\n",
       "      <td>23940.0</td>\n",
       "      <td>1.0</td>\n",
       "    </tr>\n",
       "    <tr>\n",
       "      <th>800005</th>\n",
       "      <td>1995</td>\n",
       "      <td>2</td>\n",
       "      <td>N997Z</td>\n",
       "      <td>7.0</td>\n",
       "      <td>AUS</td>\n",
       "      <td>23941.0</td>\n",
       "      <td>1.0</td>\n",
       "    </tr>\n",
       "    <tr>\n",
       "      <th>800006</th>\n",
       "      <td>1995</td>\n",
       "      <td>7</td>\n",
       "      <td>N57837</td>\n",
       "      <td>-14.0</td>\n",
       "      <td>MCO</td>\n",
       "      <td>23940.0</td>\n",
       "      <td>7.0</td>\n",
       "    </tr>\n",
       "    <tr>\n",
       "      <th>800007</th>\n",
       "      <td>1995</td>\n",
       "      <td>7</td>\n",
       "      <td>N948L</td>\n",
       "      <td>-15.0</td>\n",
       "      <td>CID</td>\n",
       "      <td>23940.0</td>\n",
       "      <td>7.0</td>\n",
       "    </tr>\n",
       "    <tr>\n",
       "      <th>800008</th>\n",
       "      <td>1995</td>\n",
       "      <td>12</td>\n",
       "      <td>N945DL</td>\n",
       "      <td>18.0</td>\n",
       "      <td>LGA</td>\n",
       "      <td>23940.0</td>\n",
       "      <td>12.0</td>\n",
       "    </tr>\n",
       "    <tr>\n",
       "      <th>800009</th>\n",
       "      <td>1995</td>\n",
       "      <td>3</td>\n",
       "      <td>N309</td>\n",
       "      <td>60.0</td>\n",
       "      <td>PHX</td>\n",
       "      <td>23940.0</td>\n",
       "      <td>3.0</td>\n",
       "    </tr>\n",
       "  </tbody>\n",
       "</table>\n",
       "</div>"
      ],
      "text/plain": [
       "        Year  Month TailNum  ArrDelay Origin    Start   Age\n",
       "800001  1995     12  N605AU     108.0    TPA  23940.0  12.0\n",
       "800002  1995     10  N178AW       1.0    PHX  23940.0  10.0\n",
       "800003  1995     11  N966VJ      -7.0    PIT  23940.0  11.0\n",
       "800004  1995      1  N903DE      -4.0    PNS  23940.0   1.0\n",
       "800005  1995      2   N997Z       7.0    AUS  23941.0   1.0\n",
       "800006  1995      7  N57837     -14.0    MCO  23940.0   7.0\n",
       "800007  1995      7   N948L     -15.0    CID  23940.0   7.0\n",
       "800008  1995     12  N945DL      18.0    LGA  23940.0  12.0\n",
       "800009  1995      3    N309      60.0    PHX  23940.0   3.0"
      ]
     },
     "execution_count": 7,
     "metadata": {},
     "output_type": "execute_result"
    }
   ],
   "source": [
    "# Calculate Age of each airline at time of flight\n",
    "flights['Start'] = np.nan\n",
    "\n",
    "for x in aircrafts:\n",
    "    birthday = (birthmonth(flights[flights['TailNum'] == x]))\n",
    "    flights.loc[flights.TailNum == x, 'Start'] = birthday\n",
    "\n",
    "flights = flights.assign(Age = flights.Year * 12 + flights.Month - flights.Start)\n",
    "    \n",
    "flights[1:10]"
   ]
  },
  {
   "cell_type": "code",
   "execution_count": 8,
   "metadata": {},
   "outputs": [
    {
     "data": {
      "text/plain": [
       "(1332628, 7)"
      ]
     },
     "execution_count": 8,
     "metadata": {},
     "output_type": "execute_result"
    }
   ],
   "source": [
    "# Remove flights with Age of 1\n",
    "flights_subset = flights[(flights['Age']!=1.0)]\n",
    "\n",
    "flights_subset.shape"
   ]
  },
  {
   "cell_type": "code",
   "execution_count": 9,
   "metadata": {},
   "outputs": [
    {
     "data": {
      "image/png": "[encoded data removed]",
      "text/plain": [
       "<matplotlib.figure.Figure at 0x7f4f936d66d0>"
      ]
     },
     "metadata": {},
     "output_type": "display_data"
    },
    {
     "data": {
      "text/plain": [
       "0.00020628710246184401"
      ]
     },
     "execution_count": 9,
     "metadata": {},
     "output_type": "execute_result"
    }
   ],
   "source": [
    "# Generate linear model for response: ArrDelay and predictors: Age\n",
    "x = flights_subset.Age.values\n",
    "y = flights_subset.ArrDelay.values\n",
    "\n",
    "x = x.reshape(len(x), 1)\n",
    "y = y.reshape(len(y), 1)\n",
    "\n",
    "lm = LinearRegression()\n",
    "lm.fit(x, y)\n",
    "\n",
    "# Create scatter plot\n",
    "plt.scatter(x, y,  color='black')\n",
    "plt.plot(x, lm.predict(x), color='blue', linewidth=3)\n",
    "plt.show()\n",
    "\n",
    "# View the Rsquared value for the regression equation\n",
    "lm.score(x, y)"
   ]
  },
  {
   "cell_type": "code",
   "execution_count": 10,
   "metadata": {},
   "outputs": [
    {
     "data": {
      "image/png": "[encoded data removed]",
      "text/plain": [
       "<matplotlib.figure.Figure at 0x7f4f936fb7d0>"
      ]
     },
     "metadata": {},
     "output_type": "display_data"
    }
   ],
   "source": [
    "# Create violin plot showing delay by month\n",
    "flights_subset = []\n",
    "\n",
    "for x in np.unique(flights[[\"Month\"]].values):\n",
    "    flights_subset.append(flights[flights[\"Month\"] == x][\"ArrDelay\"].values)\n",
    "\n",
    "fig, axes = plt.subplots()\n",
    "axes.violinplot(flights_subset, positions=np.unique(flights[[\"Month\"]].values))\n",
    "plt.show()"
   ]
  },
  {
   "cell_type": "code",
   "execution_count": 11,
   "metadata": {},
   "outputs": [
    {
     "name": "stdout",
     "output_type": "stream",
     "text": [
      "('Minimum delay:', -175.0, 'Maximum delay:', 1445.0)\n"
     ]
    }
   ],
   "source": [
    "# Determine range of ArrDelay\n",
    "print(\"Minimum delay:\", flights[\"ArrDelay\"].min(),\"Maximum delay:\", flights[\"ArrDelay\"].max())"
   ]
  },
  {
   "cell_type": "code",
   "execution_count": 12,
   "metadata": {},
   "outputs": [
    {
     "data": {
      "text/html": [
       "<div>\n",
       "<style>\n",
       "    .dataframe thead tr:only-child th {\n",
       "        text-align: right;\n",
       "    }\n",
       "\n",
       "    .dataframe thead th {\n",
       "        text-align: left;\n",
       "    }\n",
       "\n",
       "    .dataframe tbody tr th {\n",
       "        vertical-align: top;\n",
       "    }\n",
       "</style>\n",
       "<table border=\"1\" class=\"dataframe\">\n",
       "  <thead>\n",
       "    <tr style=\"text-align: right;\">\n",
       "      <th></th>\n",
       "      <th>Year</th>\n",
       "      <th>Month</th>\n",
       "      <th>TailNum</th>\n",
       "      <th>ArrDelay</th>\n",
       "      <th>Origin</th>\n",
       "      <th>Start</th>\n",
       "      <th>Age</th>\n",
       "      <th>ArrCategory</th>\n",
       "    </tr>\n",
       "  </thead>\n",
       "  <tbody>\n",
       "    <tr>\n",
       "      <th>800001</th>\n",
       "      <td>1995</td>\n",
       "      <td>12</td>\n",
       "      <td>N605AU</td>\n",
       "      <td>108.0</td>\n",
       "      <td>TPA</td>\n",
       "      <td>23940.0</td>\n",
       "      <td>12.0</td>\n",
       "      <td>Late</td>\n",
       "    </tr>\n",
       "    <tr>\n",
       "      <th>800002</th>\n",
       "      <td>1995</td>\n",
       "      <td>10</td>\n",
       "      <td>N178AW</td>\n",
       "      <td>1.0</td>\n",
       "      <td>PHX</td>\n",
       "      <td>23940.0</td>\n",
       "      <td>10.0</td>\n",
       "      <td>On-Time</td>\n",
       "    </tr>\n",
       "    <tr>\n",
       "      <th>800003</th>\n",
       "      <td>1995</td>\n",
       "      <td>11</td>\n",
       "      <td>N966VJ</td>\n",
       "      <td>-7.0</td>\n",
       "      <td>PIT</td>\n",
       "      <td>23940.0</td>\n",
       "      <td>11.0</td>\n",
       "      <td>On-Time</td>\n",
       "    </tr>\n",
       "    <tr>\n",
       "      <th>800004</th>\n",
       "      <td>1995</td>\n",
       "      <td>1</td>\n",
       "      <td>N903DE</td>\n",
       "      <td>-4.0</td>\n",
       "      <td>PNS</td>\n",
       "      <td>23940.0</td>\n",
       "      <td>1.0</td>\n",
       "      <td>On-Time</td>\n",
       "    </tr>\n",
       "    <tr>\n",
       "      <th>800005</th>\n",
       "      <td>1995</td>\n",
       "      <td>2</td>\n",
       "      <td>N997Z</td>\n",
       "      <td>7.0</td>\n",
       "      <td>AUS</td>\n",
       "      <td>23941.0</td>\n",
       "      <td>1.0</td>\n",
       "      <td>On-Time</td>\n",
       "    </tr>\n",
       "    <tr>\n",
       "      <th>800006</th>\n",
       "      <td>1995</td>\n",
       "      <td>7</td>\n",
       "      <td>N57837</td>\n",
       "      <td>-14.0</td>\n",
       "      <td>MCO</td>\n",
       "      <td>23940.0</td>\n",
       "      <td>7.0</td>\n",
       "      <td>On-Time</td>\n",
       "    </tr>\n",
       "    <tr>\n",
       "      <th>800007</th>\n",
       "      <td>1995</td>\n",
       "      <td>7</td>\n",
       "      <td>N948L</td>\n",
       "      <td>-15.0</td>\n",
       "      <td>CID</td>\n",
       "      <td>23940.0</td>\n",
       "      <td>7.0</td>\n",
       "      <td>Early</td>\n",
       "    </tr>\n",
       "    <tr>\n",
       "      <th>800008</th>\n",
       "      <td>1995</td>\n",
       "      <td>12</td>\n",
       "      <td>N945DL</td>\n",
       "      <td>18.0</td>\n",
       "      <td>LGA</td>\n",
       "      <td>23940.0</td>\n",
       "      <td>12.0</td>\n",
       "      <td>On-Time</td>\n",
       "    </tr>\n",
       "    <tr>\n",
       "      <th>800009</th>\n",
       "      <td>1995</td>\n",
       "      <td>3</td>\n",
       "      <td>N309</td>\n",
       "      <td>60.0</td>\n",
       "      <td>PHX</td>\n",
       "      <td>23940.0</td>\n",
       "      <td>3.0</td>\n",
       "      <td>Late</td>\n",
       "    </tr>\n",
       "  </tbody>\n",
       "</table>\n",
       "</div>"
      ],
      "text/plain": [
       "        Year  Month TailNum  ArrDelay Origin    Start   Age ArrCategory\n",
       "800001  1995     12  N605AU     108.0    TPA  23940.0  12.0        Late\n",
       "800002  1995     10  N178AW       1.0    PHX  23940.0  10.0     On-Time\n",
       "800003  1995     11  N966VJ      -7.0    PIT  23940.0  11.0     On-Time\n",
       "800004  1995      1  N903DE      -4.0    PNS  23940.0   1.0     On-Time\n",
       "800005  1995      2   N997Z       7.0    AUS  23941.0   1.0     On-Time\n",
       "800006  1995      7  N57837     -14.0    MCO  23940.0   7.0     On-Time\n",
       "800007  1995      7   N948L     -15.0    CID  23940.0   7.0       Early\n",
       "800008  1995     12  N945DL      18.0    LGA  23940.0  12.0     On-Time\n",
       "800009  1995      3    N309      60.0    PHX  23940.0   3.0        Late"
      ]
     },
     "execution_count": 12,
     "metadata": {},
     "output_type": "execute_result"
    }
   ],
   "source": [
    "# Bin ArrDelay\n",
    "bins = [-50,-15,30,120,500]\n",
    "bin_names = [\"Early\",\"On-Time\", \"Late\", \"Very Late\"]\n",
    "flights[\"ArrCategory\"] = pd.cut(flights[\"ArrDelay\"], bins, labels = bin_names)\n",
    "\n",
    "flights[1:10]"
   ]
  },
  {
   "cell_type": "code",
   "execution_count": 13,
   "metadata": {},
   "outputs": [
    {
     "data": {
      "text/plain": [
       "array([ 0.19874725,  0.61602479,  0.18522797])"
      ]
     },
     "execution_count": 13,
     "metadata": {},
     "output_type": "execute_result"
    }
   ],
   "source": [
    "### Create Random Forest for response: ArrDelay and predictors: Month, Year and Age\n",
    "\n",
    "# Create training and testing subsets\n",
    "X = flights[['Month', 'Year', 'Age']]\n",
    "y = flights[\"ArrDelay\"]\n",
    "\n",
    "forest = RandomForestClassifier(max_depth = 3)\n",
    "forest.fit(X, y)\n",
    "\n",
    "# Importance of each feature: 'Month', 'Year', and 'Age'\n",
    "forest.feature_importances_"
   ]
  }
 ],
 "metadata": {
  "kernelspec": {
   "display_name": "Python 2",
   "language": "python",
   "name": "python2"
  },
  "language_info": {
   "codemirror_mode": {
    "name": "ipython",
    "version": 2
   },
   "file_extension": ".py",
   "mimetype": "text/x-python",
   "name": "python",
   "nbconvert_exporter": "python",
   "pygments_lexer": "ipython2",
   "version": "2.7.13"
  }
 },
 "nbformat": 4,
 "nbformat_minor": 2
}
