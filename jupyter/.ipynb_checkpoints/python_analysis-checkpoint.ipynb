{
 "cells": [
  {
   "cell_type": "code",
   "execution_count": null,
   "metadata": {
    "collapsed": true
   },
   "outputs": [],
   "source": [
    "# Import libraries\n",
    "import pandas as pd\n",
    "import numpy as np\n",
    "import matplotlib.pyplot as plt\n",
    "from sklearn.linear_model import LinearRegression\n",
    "from sklearn.ensemble import RandomForestClassifier"
   ]
  },
  {
   "cell_type": "code",
   "execution_count": null,
   "metadata": {},
   "outputs": [],
   "source": [
    "# Load airline.csv data\n",
    "flights = pd.read_csv(\"./data/airline_trunc.csv\",\n",
    "                     sep = \",\")\n",
    "flights.head(5)"
   ]
  },
  {
   "cell_type": "code",
   "execution_count": null,
   "metadata": {},
   "outputs": [],
   "source": [
    "# The structure of the dataframe\n",
    "flights.dtypes"
   ]
  },
  {
   "cell_type": "code",
   "execution_count": null,
   "metadata": {},
   "outputs": [],
   "source": [
    "# Number of rows and columns in dataframe\n",
    "flights.shape"
   ]
  },
  {
   "cell_type": "code",
   "execution_count": null,
   "metadata": {},
   "outputs": [],
   "source": [
    "# Remove flights with missing data\n",
    "flights = flights.dropna(axis = [0, 1], how = \"any\")\n",
    "flights.shape"
   ]
  },
  {
   "cell_type": "code",
   "execution_count": null,
   "metadata": {},
   "outputs": [],
   "source": [
    "# Function to estimate birthmonth of aircraft by finding the month and year of first flight\n",
    "def birthmonth(airplane):\n",
    "    minYear = airplane['Year'].min()\n",
    "    minMonth = airplane[airplane['Year'] == minYear]['Month'].min()\n",
    "    return (12*minYear + minMonth - 1);\n",
    "\n",
    "# Create vectors for each aircraft (aircrafts)\n",
    "aircrafts = flights['TailNum'].unique()\n",
    "aircrafts = [s for s in aircrafts if str(s) != 'nan']\n",
    "\n",
    "aircrafts[1:10]"
   ]
  },
  {
   "cell_type": "code",
   "execution_count": null,
   "metadata": {},
   "outputs": [],
   "source": [
    "# Calculate Age of each airline at time of flight\n",
    "flights['Start'] = np.nan\n",
    "\n",
    "for x in aircrafts:\n",
    "    birthday = (birthmonth(flights[flights['TailNum'] == x]))\n",
    "    flights['Start'].loc[flights['TailNum'] == x,] = birthday\n",
    "\n",
    "flights = flights.assign(Age = flights.Year * 12 + flights.Month - flights.Start)\n",
    "    \n",
    "flights[1:10]"
   ]
  },
  {
   "cell_type": "code",
   "execution_count": null,
   "metadata": {},
   "outputs": [],
   "source": [
    "# Remove flights with Age of 1\n",
    "flights_subset = flights[(flights['Age']!=1.0)]\n",
    "\n",
    "flights_subset.shape"
   ]
  },
  {
   "cell_type": "code",
   "execution_count": null,
   "metadata": {},
   "outputs": [],
   "source": [
    "# Generate linear model for response: ArrDelay and predictors: Age\n",
    "x = flights_subset.Age.values\n",
    "y = flights_subset.ArrDelay.values\n",
    "\n",
    "x = x.reshape(len(x), 1)\n",
    "y = y.reshape(len(y), 1)\n",
    "\n",
    "lm = LinearRegression()\n",
    "lm.fit(x, y)\n",
    "\n",
    "# Create scatter plot\n",
    "plt.scatter(x, y,  color='black')\n",
    "plt.plot(x, lm.predict(x), color='blue', linewidth=3)\n",
    "plt.show()\n",
    "\n",
    "# View the Rsquared value for the regression equation\n",
    "lm.score(x, y)"
   ]
  },
  {
   "cell_type": "code",
   "execution_count": null,
   "metadata": {},
   "outputs": [],
   "source": [
    "# Create violin plot showing delay by month\n",
    "flights_subset = []\n",
    "\n",
    "for x in np.unique(flights[[\"Month\"]].values):\n",
    "    flights_subset.append(flights[flights[\"Month\"] == x][\"ArrDelay\"].values)\n",
    "\n",
    "fig, axes = plt.subplots()\n",
    "axes.violinplot(flights_subset, positions=np.unique(flights[[\"Month\"]].values))\n",
    "plt.show()"
   ]
  },
  {
   "cell_type": "code",
   "execution_count": null,
   "metadata": {},
   "outputs": [],
   "source": [
    "# Determine range of ArrDelay\n",
    "print(\"Minimum delay:\", flights[\"ArrDelay\"].min(),\"Maximum delay:\", flights[\"ArrDelay\"].max())"
   ]
  },
  {
   "cell_type": "code",
   "execution_count": null,
   "metadata": {},
   "outputs": [],
   "source": [
    "# Bin ArrDelay\n",
    "bins = [-50,-15,30,120,500]\n",
    "bin_names = [\"Early\",\"On-Time\", \"Late\", \"Very Late\"]\n",
    "flights[\"ArrCategory\"] = pd.cut(flights[\"ArrDelay\"], bins, labels = bin_names)\n",
    "\n",
    "flights[1:10]"
   ]
  },
  {
   "cell_type": "code",
   "execution_count": null,
   "metadata": {},
   "outputs": [],
   "source": [
    "### Create Random Forest for response: ArrDelay and predictors: Month, Year and Age\n",
    "\n",
    "# Create training and testing subsets\n",
    "X = flights[['Month', 'Year', 'Age']]\n",
    "y = flights[\"ArrDelay\"]\n",
    "\n",
    "forest = RandomForestClassifier(max_depth = 3)\n",
    "forest.fit(X, y)\n",
    "\n",
    "# Importance of each feature: 'Month', 'Year', and 'Age'\n",
    "forest.feature_importances_"
   ]
  },
  {
   "cell_type": "code",
   "execution_count": null,
   "metadata": {
    "collapsed": true
   },
   "outputs": [],
   "source": []
  }
 ],
 "metadata": {
  "kernelspec": {
   "display_name": "Python 2",
   "language": "python",
   "name": "python2"
  },
  "language_info": {
   "codemirror_mode": {
    "name": "ipython",
    "version": 2
   },
   "file_extension": ".py",
   "mimetype": "text/x-python",
   "name": "python",
   "nbconvert_exporter": "python",
   "pygments_lexer": "ipython2",
   "version": "2.7.13"
  }
 },
 "nbformat": 4,
 "nbformat_minor": 2
}
