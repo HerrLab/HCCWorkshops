{
 "cells": [
  {
   "cell_type": "code",
   "execution_count": null,
   "metadata": {},
   "outputs": [],
   "source": [
    "# load required libraries\n",
    "library(dplyr)\n",
    "library(ggplot2)\n",
    "library(maps)\n",
    "library(randomForest)"
   ]
  },
  {
   "cell_type": "code",
   "execution_count": null,
   "metadata": {},
   "outputs": [],
   "source": [
    "# Load airline.csv data\n",
    "flights <- read.csv(\"./data/airline_trunc.csv\",\n",
    "  sep=\",\", \n",
    "  header=TRUE,\n",
    "  stringsAsFactors=FALSE)\n",
    "\n",
    "# Explore the data\n",
    "head(flights)\n",
    "str(flights)"
   ]
  },
  {
   "cell_type": "code",
   "execution_count": null,
   "metadata": {},
   "outputs": [],
   "source": [
    "# Remove flights with missing data\n",
    "flights <- na.omit(flights)\n",
    "\n",
    "dim(flights)"
   ]
  },
  {
   "cell_type": "code",
   "execution_count": null,
   "metadata": {},
   "outputs": [],
   "source": [
    "# Function to estimate birthmonth of aircraft by finding the month and year of first flight\n",
    "birthmonth <- function(y){\n",
    "  minYear <- min(y[,'Year'], na.rm=TRUE)\n",
    "  these <- which(y[,'Year']==minYear)\n",
    "  minMonth <- min(y[these, 'Month'], na.rm=TRUE)\n",
    "  return(12 * minYear + minMonth - 1)\n",
    "}\n",
    "\n",
    "# Create vectors for each aircraft (aircrafts) and store their birthmonth (acStart)\n",
    "aircrafts <- unique(flights[,'TailNum'])\n",
    "aircrafts <- aircrafts[!is.na(aircrafts)]\n",
    "\n",
    "acStart <- rep(0, length(aircrafts))\n",
    "\n",
    "for (i in aircrafts) {\n",
    "  acStart[i] <- birthmonth(flights[flights$TailNum==i,])\n",
    "}\n",
    "\n",
    "tail(acStart)"
   ]
  },
  {
   "cell_type": "code",
   "execution_count": null,
   "metadata": {},
   "outputs": [],
   "source": [
    "# Calculate flight age using the birthmonth\n",
    "age <- data.frame(names(acStart), acStart, stringsAsFactors = FALSE)\n",
    "colnames(age) <- c(\"TailNum\", \"acStart\")\n",
    "flights <- left_join(flights, age, by=\"TailNum\")\n",
    "flights <- mutate(flights, Age = (flights$Year * 12) + flights$Month - flights$acStart)\n",
    "\n",
    "head(flights)"
   ]
  },
  {
   "cell_type": "code",
   "execution_count": null,
   "metadata": {},
   "outputs": [],
   "source": [
    "# Generate linear model for response: ArrDelay and predictor: Age \n",
    "lm <- lm(ArrDelay ~ Age, data=flights)\n",
    "summary(lm)"
   ]
  },
  {
   "cell_type": "code",
   "execution_count": null,
   "metadata": {},
   "outputs": [],
   "source": [
    "# Convert Months from number to factor\n",
    "flights$Month <- factor(flights$Month)\n",
    "levels(flights$Month) <- month.abb\n",
    "\n",
    "# Select a subset of fields needed to graph arrival delays by month\n",
    "subset_month <- select(flights, Month, ArrDelay)\n",
    "\n",
    "# Create violin graph showing arrival delays by month\n",
    "ggplot(subset_month, aes(Month,ArrDelay, fill=factor(Month))) + \n",
    "       geom_violin(aes(group=Month)) + \n",
    "       theme(legend.position=\"none\") +\n",
    "       labs(y = \"Arrival Delay (in minutes)\") + \n",
    "       labs(title = \"Average Flight Arrival Delay by Month\")"
   ]
  },
  {
   "cell_type": "code",
   "execution_count": null,
   "metadata": {},
   "outputs": [],
   "source": [
    "# Load state list for airport codes and join departure state to flights dataframe\n",
    "airport_codes <- read.csv(\"./data/airport_codes.csv\",\n",
    "                        col.names=c(\"OriginState\", \"Origin\"),\n",
    "                        stringsAsFactors = FALSE)\n",
    "flights <- left_join(flights, airport_codes, by=\"Origin\")\n",
    "\n",
    "# Create subset of data containing origin state and arrival delay\n",
    "subset_state <- select(flights, OriginState, ArrDelay)\n",
    "subset_state <- subset_state[!is.na(subset_state$ArrDelay),]\n",
    "subset_state <- group_by(subset_state, OriginState)\n",
    "subset_summary <- summarise(subset_state, AveDelay=mean(ArrDelay))\n",
    "\n",
    "# Create graphic of US States colored by average delay time\n",
    "map = map_data(\"state\")\n",
    "\n",
    "ggplot(subset_summary, aes(fill=AveDelay)) + \n",
    "  geom_map(aes(map_id=OriginState), map=map) +\n",
    "  scale_fill_distiller(name = \"AveDelay(mins)\", palette = \"Spectral\", direction=-1) +\n",
    "  expand_limits(x=map$long, y=map$lat) +\n",
    "  theme_void() +\n",
    "  labs(title = \"Average Flight Arrival Delay by State\")"
   ]
  },
  {
   "cell_type": "code",
   "execution_count": null,
   "metadata": {},
   "outputs": [],
   "source": [
    "# Bin based on arrival times\n",
    "flights$ArrCategory <- cut(flights$ArrDelay, c(-120,-15,15,120,400), c(\"Early\", \"On-Time\", \"Late\", \"Very Late\"))\n",
    "\n",
    "# Remove any remaining NA's\n",
    "flights_subset <- select(flights, Month, Year, OriginState, Age, ArrCategory)\n",
    "flights_subset <- na.omit(flights_subset)\n",
    "flights_subset$OriginState <- as.factor(flights_subset$OriginState)\n",
    "\n",
    "# Divide data into training and testing sets\n",
    "flights.train <- rownames(sample_frac(flights_subset, .8))\n",
    "flights.test <- rownames(flights)[!(rownames(flights_subset) %in% flights.train)]\n",
    "\n",
    "length(flights.train)\n",
    "length(flights.test)"
   ]
  },
  {
   "cell_type": "code",
   "execution_count": null,
   "metadata": {},
   "outputs": [],
   "source": [
    "# Create random forest to predict ArrCategory\n",
    "forest <- randomForest(ArrCategory ~ OriginState + Month + Year, flights_subset[flights.train,], ntree=10)\n",
    "forest"
   ]
  },
  {
   "cell_type": "code",
   "execution_count": null,
   "metadata": {},
   "outputs": [],
   "source": [
    "forest$importance"
   ]
  },
  {
   "cell_type": "code",
   "execution_count": null,
   "metadata": {
    "collapsed": true
   },
   "outputs": [],
   "source": []
  }
 ],
 "metadata": {
  "kernelspec": {
   "display_name": "R",
   "language": "R",
   "name": "ir"
  },
  "language_info": {
   "codemirror_mode": "r",
   "file_extension": ".r",
   "mimetype": "text/x-r-source",
   "name": "R",
   "pygments_lexer": "r",
   "version": "3.4.1"
  }
 },
 "nbformat": 4,
 "nbformat_minor": 2
}
